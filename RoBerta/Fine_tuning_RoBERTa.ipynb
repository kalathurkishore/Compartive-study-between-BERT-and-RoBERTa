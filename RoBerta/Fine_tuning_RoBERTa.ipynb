{
  "cells": [
    {
      "cell_type": "markdown",
      "source": [
        "## **Imports**"
      ],
      "metadata": {
        "id": "MpJ4aJmR46Lg"
      },
      "id": "MpJ4aJmR46Lg"
    },
    {
      "cell_type": "code",
      "execution_count": null,
      "id": "ab190c7f",
      "metadata": {
        "execution": {
          "iopub.execute_input": "2022-05-01T13:58:35.948055Z",
          "iopub.status.busy": "2022-05-01T13:58:35.947048Z",
          "iopub.status.idle": "2022-05-01T13:58:37.399354Z",
          "shell.execute_reply": "2022-05-01T13:58:37.398658Z"
        },
        "id": "ab190c7f",
        "papermill": {
          "duration": 1.495362,
          "end_time": "2022-05-01T13:58:37.401476",
          "exception": false,
          "start_time": "2022-05-01T13:58:35.906114",
          "status": "completed"
        },
        "tags": []
      },
      "outputs": [],
      "source": [
        "import json\n",
        "from pathlib import Path\n",
        "import torch\n",
        "from torch.utils.data import DataLoader\n",
        "import time"
      ]
    },
    {
      "cell_type": "code",
      "execution_count": null,
      "id": "b328c597",
      "metadata": {
        "execution": {
          "iopub.execute_input": "2022-05-01T13:58:40.412803Z",
          "iopub.status.busy": "2022-05-01T13:58:40.412107Z",
          "iopub.status.idle": "2022-05-01T13:58:50.856071Z",
          "shell.execute_reply": "2022-05-01T13:58:50.855087Z"
        },
        "id": "b328c597",
        "papermill": {
          "duration": 10.485078,
          "end_time": "2022-05-01T13:58:50.858188",
          "exception": false,
          "start_time": "2022-05-01T13:58:40.373110",
          "status": "completed"
        },
        "tags": []
      },
      "outputs": [],
      "source": [
        "%%capture\n",
        "!pip install transformers"
      ]
    },
    {
      "cell_type": "markdown",
      "id": "07d6b72a",
      "metadata": {
        "id": "07d6b72a",
        "papermill": {
          "duration": 0.057557,
          "end_time": "2022-05-01T13:58:37.574858",
          "exception": false,
          "start_time": "2022-05-01T13:58:37.517301",
          "status": "completed"
        },
        "tags": []
      },
      "source": [
        "## **Downloading the Dataset**\n",
        "\n",
        "The dataset that is considered is **Stanford Question Answering Dataset** (SQuAD v2). The dataset is known to contain 1,00,000 questions based on Wikipedia articles. The answer corresponding to each question is a segment of text, or span, from the reading article that is being considered. \n",
        "\n",
        "The second version of SQuAD, 50,000 unanswerable questions were added that look similar to answerable questions.\n",
        "\n"
      ]
    },
    {
      "cell_type": "code",
      "execution_count": null,
      "id": "1a3830b0",
      "metadata": {
        "execution": {
          "iopub.execute_input": "2022-05-01T13:58:37.732116Z",
          "iopub.status.busy": "2022-05-01T13:58:37.731823Z",
          "iopub.status.idle": "2022-05-01T13:58:40.333341Z",
          "shell.execute_reply": "2022-05-01T13:58:40.332431Z"
        },
        "id": "1a3830b0",
        "papermill": {
          "duration": 2.684685,
          "end_time": "2022-05-01T13:58:40.335548",
          "exception": false,
          "start_time": "2022-05-01T13:58:37.650863",
          "status": "completed"
        },
        "tags": []
      },
      "outputs": [],
      "source": [
        "%%capture\n",
        "!mkdir squad\n",
        "!wget https://rajpurkar.github.io/SQuAD-explorer/dataset/train-v2.0.json -O squad/train-v2.0.json\n",
        "!wget https://rajpurkar.github.io/SQuAD-explorer/dataset/dev-v2.0.json -O squad/dev-v2.0.json"
      ]
    },
    {
      "cell_type": "markdown",
      "id": "4b976842",
      "metadata": {
        "id": "4b976842",
        "papermill": {
          "duration": 0.036618,
          "end_time": "2022-05-01T13:58:50.932508",
          "exception": false,
          "start_time": "2022-05-01T13:58:50.895890",
          "status": "completed"
        },
        "tags": []
      },
      "source": [
        "## **Data loading**\n",
        "\n",
        "The SQuAD dataset is known to contain the information in the form .json files, which contain texts, queries and answers. The cells shown below contain the code that helps us in fetching the data from train and validation files. \n",
        "\n",
        "Further these information is stored in the form of lists."
      ]
    },
    {
      "cell_type": "code",
      "execution_count": null,
      "id": "8ac76197",
      "metadata": {
        "execution": {
          "iopub.execute_input": "2022-05-01T13:58:51.081642Z",
          "iopub.status.busy": "2022-05-01T13:58:51.080924Z",
          "iopub.status.idle": "2022-05-01T13:58:52.313437Z",
          "shell.execute_reply": "2022-05-01T13:58:52.312714Z"
        },
        "id": "8ac76197",
        "papermill": {
          "duration": 1.273144,
          "end_time": "2022-05-01T13:58:52.315579",
          "exception": false,
          "start_time": "2022-05-01T13:58:51.042435",
          "status": "completed"
        },
        "tags": []
      },
      "outputs": [],
      "source": [
        "# Give the path for train data\n",
        "path = Path('squad/train-v2.0.json')\n",
        "\n",
        "# Open .json file\n",
        "with open(path, 'rb') as f:\n",
        "    squad_dict = json.load(f)\n",
        "\n",
        "texts = []\n",
        "queries = []\n",
        "answers = []\n",
        "\n",
        "# Search for each passage, its question and its answer\n",
        "for group in squad_dict['data']:\n",
        "    for passage in group['paragraphs']:\n",
        "        context = passage['context']\n",
        "        for qa in passage['qas']:\n",
        "            question = qa['question']\n",
        "            for answer in qa['answers']:\n",
        "                # Store every passage, query and its answer to the lists\n",
        "                texts.append(context)\n",
        "                queries.append(question)\n",
        "                answers.append(answer)\n",
        "\n",
        "train_texts, train_queries, train_answers = texts, queries, answers"
      ]
    },
    {
      "cell_type": "code",
      "execution_count": null,
      "id": "d68b99f2",
      "metadata": {
        "execution": {
          "iopub.execute_input": "2022-05-01T13:58:52.390528Z",
          "iopub.status.busy": "2022-05-01T13:58:52.390140Z",
          "iopub.status.idle": "2022-05-01T13:58:52.524381Z",
          "shell.execute_reply": "2022-05-01T13:58:52.523638Z"
        },
        "id": "d68b99f2",
        "papermill": {
          "duration": 0.174178,
          "end_time": "2022-05-01T13:58:52.526445",
          "exception": false,
          "start_time": "2022-05-01T13:58:52.352267",
          "status": "completed"
        },
        "tags": []
      },
      "outputs": [],
      "source": [
        "# Give the path for validation data\n",
        "path = Path('squad/dev-v2.0.json')\n",
        "\n",
        "# Open .json file\n",
        "with open(path, 'rb') as f:\n",
        "    squad_dict = json.load(f)\n",
        "\n",
        "texts = []\n",
        "queries = []\n",
        "answers = []\n",
        "\n",
        "# Search for each passage, its question and its answer\n",
        "for group in squad_dict['data']:\n",
        "    for passage in group['paragraphs']:\n",
        "        context = passage['context']\n",
        "        for qa in passage['qas']:\n",
        "            question = qa['question']\n",
        "            for answer in qa['answers']:\n",
        "                # Store every passage, query and its answer to the lists\n",
        "                texts.append(context)\n",
        "                queries.append(question)\n",
        "                answers.append(answer)\n",
        "\n",
        "val_texts, val_queries, val_answers = texts, queries, answers"
      ]
    },
    {
      "cell_type": "markdown",
      "id": "12392815",
      "metadata": {
        "id": "12392815",
        "papermill": {
          "duration": 0.037636,
          "end_time": "2022-05-01T13:58:52.601169",
          "exception": false,
          "start_time": "2022-05-01T13:58:52.563533",
          "status": "completed"
        },
        "tags": []
      },
      "source": [
        "**Data checking**"
      ]
    },
    {
      "cell_type": "code",
      "execution_count": null,
      "id": "709b824f",
      "metadata": {
        "execution": {
          "iopub.execute_input": "2022-05-01T13:58:52.750661Z",
          "iopub.status.busy": "2022-05-01T13:58:52.750001Z",
          "iopub.status.idle": "2022-05-01T13:58:52.755039Z",
          "shell.execute_reply": "2022-05-01T13:58:52.754377Z"
        },
        "id": "709b824f",
        "outputId": "6f7d0b82-af84-4afb-f212-83b0766b2379",
        "papermill": {
          "duration": 0.045282,
          "end_time": "2022-05-01T13:58:52.757361",
          "exception": false,
          "start_time": "2022-05-01T13:58:52.712079",
          "status": "completed"
        },
        "tags": []
      },
      "outputs": [
        {
          "name": "stdout",
          "output_type": "stream",
          "text": [
            "86821\n",
            "86821\n",
            "86821\n"
          ]
        }
      ],
      "source": [
        "print(len(train_texts))\n",
        "print(len(train_queries))\n",
        "print(len(train_answers))"
      ]
    },
    {
      "cell_type": "code",
      "execution_count": null,
      "id": "2be1321e",
      "metadata": {
        "execution": {
          "iopub.execute_input": "2022-05-01T13:58:52.833981Z",
          "iopub.status.busy": "2022-05-01T13:58:52.833297Z",
          "iopub.status.idle": "2022-05-01T13:58:52.838562Z",
          "shell.execute_reply": "2022-05-01T13:58:52.837880Z"
        },
        "id": "2be1321e",
        "outputId": "b2ffa053-6f87-4207-a12b-59dadb1a2be0",
        "papermill": {
          "duration": 0.045716,
          "end_time": "2022-05-01T13:58:52.840522",
          "exception": false,
          "start_time": "2022-05-01T13:58:52.794806",
          "status": "completed"
        },
        "tags": []
      },
      "outputs": [
        {
          "name": "stdout",
          "output_type": "stream",
          "text": [
            "Passage:  Beyoncé Giselle Knowles-Carter (/biːˈjɒnseɪ/ bee-YON-say) (born September 4, 1981) is an American singer, songwriter, record producer and actress. Born and raised in Houston, Texas, she performed in various singing and dancing competitions as a child, and rose to fame in the late 1990s as lead singer of R&B girl-group Destiny's Child. Managed by her father, Mathew Knowles, the group became one of the world's best-selling girl groups of all time. Their hiatus saw the release of Beyoncé's debut album, Dangerously in Love (2003), which established her as a solo artist worldwide, earned five Grammy Awards and featured the Billboard Hot 100 number-one singles \"Crazy in Love\" and \"Baby Boy\".\n",
            "Query:  When did Beyonce start becoming popular?\n",
            "Answer:  {'text': 'in the late 1990s', 'answer_start': 269}\n"
          ]
        }
      ],
      "source": [
        "print(\"Passage: \",train_texts[0])  \n",
        "print(\"Query: \",train_queries[0])\n",
        "print(\"Answer: \",train_answers[0])"
      ]
    },
    {
      "cell_type": "code",
      "execution_count": null,
      "id": "91530394",
      "metadata": {
        "execution": {
          "iopub.execute_input": "2022-05-01T13:58:52.993018Z",
          "iopub.status.busy": "2022-05-01T13:58:52.992372Z",
          "iopub.status.idle": "2022-05-01T13:58:52.997201Z",
          "shell.execute_reply": "2022-05-01T13:58:52.996391Z"
        },
        "id": "91530394",
        "outputId": "b7860e5a-8b4b-4282-b104-06052ad83c84",
        "papermill": {
          "duration": 0.045915,
          "end_time": "2022-05-01T13:58:52.999754",
          "exception": false,
          "start_time": "2022-05-01T13:58:52.953839",
          "status": "completed"
        },
        "tags": []
      },
      "outputs": [
        {
          "name": "stdout",
          "output_type": "stream",
          "text": [
            "20302\n",
            "20302\n",
            "20302\n"
          ]
        }
      ],
      "source": [
        "print(len(val_texts))\n",
        "print(len(val_queries))\n",
        "print(len(val_answers))"
      ]
    },
    {
      "cell_type": "code",
      "execution_count": null,
      "id": "4efbb385",
      "metadata": {
        "execution": {
          "iopub.execute_input": "2022-05-01T13:58:53.077451Z",
          "iopub.status.busy": "2022-05-01T13:58:53.076878Z",
          "iopub.status.idle": "2022-05-01T13:58:53.082976Z",
          "shell.execute_reply": "2022-05-01T13:58:53.082131Z"
        },
        "id": "4efbb385",
        "outputId": "ad5e2858-18d2-43c6-aae5-e934a1338f17",
        "papermill": {
          "duration": 0.047671,
          "end_time": "2022-05-01T13:58:53.085178",
          "exception": false,
          "start_time": "2022-05-01T13:58:53.037507",
          "status": "completed"
        },
        "tags": []
      },
      "outputs": [
        {
          "name": "stdout",
          "output_type": "stream",
          "text": [
            "Passage:  The Normans (Norman: Nourmands; French: Normands; Latin: Normanni) were the people who in the 10th and 11th centuries gave their name to Normandy, a region in France. They were descended from Norse (\"Norman\" comes from \"Norseman\") raiders and pirates from Denmark, Iceland and Norway who, under their leader Rollo, agreed to swear fealty to King Charles III of West Francia. Through generations of assimilation and mixing with the native Frankish and Roman-Gaulish populations, their descendants would gradually merge with the Carolingian-based cultures of West Francia. The distinct cultural and ethnic identity of the Normans emerged initially in the first half of the 10th century, and it continued to evolve over the succeeding centuries.\n",
            "Query:  In what country is Normandy located?\n",
            "Answer:  {'text': 'France', 'answer_start': 159}\n"
          ]
        }
      ],
      "source": [
        "print(\"Passage: \",val_texts[0])  \n",
        "print(\"Query: \",val_queries[0])\n",
        "print(\"Answer: \",val_answers[0])"
      ]
    },
    {
      "cell_type": "markdown",
      "id": "f9a681af",
      "metadata": {
        "id": "f9a681af",
        "papermill": {
          "duration": 0.03767,
          "end_time": "2022-05-01T13:58:53.486427",
          "exception": false,
          "start_time": "2022-05-01T13:58:53.448757",
          "status": "completed"
        },
        "tags": []
      },
      "source": [
        "## **Find the end position character**\n",
        "\n",
        "The answer for each question lies between the start and end position character and hence it is important to locate these positions. "
      ]
    },
    {
      "cell_type": "code",
      "execution_count": null,
      "id": "56cfa7da",
      "metadata": {
        "execution": {
          "iopub.execute_input": "2022-05-01T13:58:53.716048Z",
          "iopub.status.busy": "2022-05-01T13:58:53.715517Z",
          "iopub.status.idle": "2022-05-01T13:58:53.795943Z",
          "shell.execute_reply": "2022-05-01T13:58:53.795214Z"
        },
        "id": "56cfa7da",
        "papermill": {
          "duration": 0.122064,
          "end_time": "2022-05-01T13:58:53.798031",
          "exception": false,
          "start_time": "2022-05-01T13:58:53.675967",
          "status": "completed"
        },
        "tags": []
      },
      "outputs": [],
      "source": [
        "for answer, text in zip(train_answers, train_texts):\n",
        "    real_answer = answer['text']\n",
        "    start_idx = answer['answer_start']\n",
        "    # Get the real end index\n",
        "    end_idx = start_idx + len(real_answer)\n",
        "\n",
        "    # Deal with the problem of 1 or 2 more characters \n",
        "    if text[start_idx:end_idx] == real_answer:\n",
        "        answer['answer_end'] = end_idx\n",
        "    # When the real answer is more by one character\n",
        "    elif text[start_idx-1:end_idx-1] == real_answer:\n",
        "        answer['answer_start'] = start_idx - 1\n",
        "        answer['answer_end'] = end_idx - 1  \n",
        "    # When the real answer is more by two characters  \n",
        "    elif text[start_idx-2:end_idx-2] == real_answer:\n",
        "        answer['answer_start'] = start_idx - 2\n",
        "        answer['answer_end'] = end_idx - 2    "
      ]
    },
    {
      "cell_type": "code",
      "execution_count": null,
      "id": "518f234b",
      "metadata": {
        "execution": {
          "iopub.execute_input": "2022-05-01T13:58:53.953798Z",
          "iopub.status.busy": "2022-05-01T13:58:53.953050Z",
          "iopub.status.idle": "2022-05-01T13:58:53.975105Z",
          "shell.execute_reply": "2022-05-01T13:58:53.974322Z"
        },
        "id": "518f234b",
        "papermill": {
          "duration": 0.063976,
          "end_time": "2022-05-01T13:58:53.976902",
          "exception": false,
          "start_time": "2022-05-01T13:58:53.912926",
          "status": "completed"
        },
        "tags": []
      },
      "outputs": [],
      "source": [
        "for answer, text in zip(val_answers, val_texts):\n",
        "    real_answer = answer['text']\n",
        "    start_idx = answer['answer_start']\n",
        "    # Get the real end index\n",
        "    end_idx = start_idx + len(real_answer)\n",
        "\n",
        "    # Deal with the problem of 1 or 2 more characters \n",
        "    if text[start_idx:end_idx] == real_answer:\n",
        "        answer['answer_end'] = end_idx\n",
        "    # When the real answer is more by one character\n",
        "    elif text[start_idx-1:end_idx-1] == real_answer:\n",
        "        answer['answer_start'] = start_idx - 1\n",
        "        answer['answer_end'] = end_idx - 1  \n",
        "    # When the real answer is more by two characters  \n",
        "    elif text[start_idx-2:end_idx-2] == real_answer:\n",
        "        answer['answer_start'] = start_idx - 2\n",
        "        answer['answer_end'] = end_idx - 2   "
      ]
    },
    {
      "cell_type": "markdown",
      "id": "2f6f40ea",
      "metadata": {
        "id": "2f6f40ea",
        "papermill": {
          "duration": 0.037717,
          "end_time": "2022-05-01T13:58:54.054390",
          "exception": false,
          "start_time": "2022-05-01T13:58:54.016673",
          "status": "completed"
        },
        "tags": []
      },
      "source": [
        "## **Tokenize passages and queries**"
      ]
    },
    {
      "cell_type": "markdown",
      "id": "72252f71",
      "metadata": {
        "id": "72252f71",
        "papermill": {
          "duration": 0.037486,
          "end_time": "2022-05-01T13:58:54.130282",
          "exception": false,
          "start_time": "2022-05-01T13:58:54.092796",
          "status": "completed"
        },
        "tags": []
      },
      "source": [
        "Bert is known to work with **Tokens** and hence the SQuAD dataset is tokensized.\n",
        "To tokenize, we use pretrained RoBERTa deepset/roberta-base-squad2 model."
      ]
    },
    {
      "cell_type": "code",
      "execution_count": null,
      "id": "dbd15276",
      "metadata": {
        "execution": {
          "iopub.execute_input": "2022-05-01T13:58:54.208871Z",
          "iopub.status.busy": "2022-05-01T13:58:54.208195Z",
          "iopub.status.idle": "2022-05-01T14:00:02.887214Z",
          "shell.execute_reply": "2022-05-01T14:00:02.886466Z"
        },
        "id": "dbd15276",
        "outputId": "add0273b-d70a-4b4c-87a7-8c2a0dc929d5",
        "papermill": {
          "duration": 68.721345,
          "end_time": "2022-05-01T14:00:02.889308",
          "exception": false,
          "start_time": "2022-05-01T13:58:54.167963",
          "status": "completed"
        },
        "tags": [],
        "colab": {
          "referenced_widgets": [
            "385801499a14447ab41f157e355dce5f",
            "3afc562d7af243fea975cea12548a392",
            "c889c4274f104635b516aa38ad006ef3",
            "5ab3fe363afb4513910a293a4683de6a",
            "2769c42a713f434ea1a5f4e2037c578d"
          ]
        }
      },
      "outputs": [
        {
          "data": {
            "application/vnd.jupyter.widget-view+json": {
              "model_id": "385801499a14447ab41f157e355dce5f",
              "version_major": 2,
              "version_minor": 0
            },
            "text/plain": [
              "Downloading:   0%|          | 0.00/79.0 [00:00<?, ?B/s]"
            ]
          },
          "metadata": {},
          "output_type": "display_data"
        },
        {
          "data": {
            "application/vnd.jupyter.widget-view+json": {
              "model_id": "3afc562d7af243fea975cea12548a392",
              "version_major": 2,
              "version_minor": 0
            },
            "text/plain": [
              "Downloading:   0%|          | 0.00/571 [00:00<?, ?B/s]"
            ]
          },
          "metadata": {},
          "output_type": "display_data"
        },
        {
          "data": {
            "application/vnd.jupyter.widget-view+json": {
              "model_id": "c889c4274f104635b516aa38ad006ef3",
              "version_major": 2,
              "version_minor": 0
            },
            "text/plain": [
              "Downloading:   0%|          | 0.00/878k [00:00<?, ?B/s]"
            ]
          },
          "metadata": {},
          "output_type": "display_data"
        },
        {
          "data": {
            "application/vnd.jupyter.widget-view+json": {
              "model_id": "5ab3fe363afb4513910a293a4683de6a",
              "version_major": 2,
              "version_minor": 0
            },
            "text/plain": [
              "Downloading:   0%|          | 0.00/446k [00:00<?, ?B/s]"
            ]
          },
          "metadata": {},
          "output_type": "display_data"
        },
        {
          "data": {
            "application/vnd.jupyter.widget-view+json": {
              "model_id": "2769c42a713f434ea1a5f4e2037c578d",
              "version_major": 2,
              "version_minor": 0
            },
            "text/plain": [
              "Downloading:   0%|          | 0.00/772 [00:00<?, ?B/s]"
            ]
          },
          "metadata": {},
          "output_type": "display_data"
        }
      ],
      "source": [
        "from transformers import AutoTokenizer,AdamW,RobertaForQuestionAnswering\n",
        "tokenizer = AutoTokenizer.from_pretrained(\"deepset/roberta-base-squad2\")\n",
        "\n",
        "train_encodings = tokenizer(train_texts, train_queries, truncation=True, padding=True)\n",
        "val_encodings = tokenizer(val_texts, val_queries, truncation=True, padding=True)"
      ]
    },
    {
      "cell_type": "markdown",
      "id": "11cc9151",
      "metadata": {
        "id": "11cc9151",
        "papermill": {
          "duration": 0.040281,
          "end_time": "2022-05-01T14:00:02.970677",
          "exception": false,
          "start_time": "2022-05-01T14:00:02.930396",
          "status": "completed"
        },
        "tags": []
      },
      "source": [
        "## **Tokenization of start and end positions**"
      ]
    },
    {
      "cell_type": "code",
      "execution_count": null,
      "id": "ba60dd76",
      "metadata": {
        "execution": {
          "iopub.execute_input": "2022-05-01T14:00:03.053909Z",
          "iopub.status.busy": "2022-05-01T14:00:03.053373Z",
          "iopub.status.idle": "2022-05-01T14:00:03.597340Z",
          "shell.execute_reply": "2022-05-01T14:00:03.596347Z"
        },
        "id": "ba60dd76",
        "outputId": "55d1f069-6ed0-4edb-cd3e-c8896724a550",
        "papermill": {
          "duration": 0.588044,
          "end_time": "2022-05-01T14:00:03.600032",
          "exception": false,
          "start_time": "2022-05-01T14:00:03.011988",
          "status": "completed"
        },
        "tags": []
      },
      "outputs": [
        {
          "name": "stdout",
          "output_type": "stream",
          "text": [
            "11\n",
            "16\n"
          ]
        }
      ],
      "source": [
        "def add_token_positions(encodings, answers):\n",
        "  start_positions = []\n",
        "  end_positions = []\n",
        "\n",
        "  count = 0\n",
        "\n",
        "  for i in range(len(answers)):\n",
        "    start_positions.append(encodings.char_to_token(i, answers[i]['answer_start']))\n",
        "    end_positions.append(encodings.char_to_token(i, answers[i]['answer_end']))\n",
        "\n",
        "    # if start position is None, the answer passage has been truncated\n",
        "    if start_positions[-1] is None:\n",
        "      start_positions[-1] = tokenizer.model_max_length\n",
        "      \n",
        "    # if end position is None, the 'char_to_token' function points to the space after the correct token, so add - 1\n",
        "    if end_positions[-1] is None:\n",
        "      end_positions[-1] = encodings.char_to_token(i, answers[i]['answer_end'] - 1)\n",
        "      # if end position is still None the answer passage has been truncated\n",
        "      if end_positions[-1] is None:\n",
        "        count += 1\n",
        "        end_positions[-1] = tokenizer.model_max_length\n",
        "\n",
        "  print(count)\n",
        "\n",
        "  # Update the data in dictionary\n",
        "  encodings.update({'start_positions': start_positions, 'end_positions': end_positions})\n",
        "\n",
        "add_token_positions(train_encodings, train_answers)\n",
        "add_token_positions(val_encodings, val_answers)"
      ]
    },
    {
      "cell_type": "markdown",
      "id": "28a439ce",
      "metadata": {
        "id": "28a439ce",
        "papermill": {
          "duration": 0.042623,
          "end_time": "2022-05-01T14:00:03.769994",
          "exception": false,
          "start_time": "2022-05-01T14:00:03.727371",
          "status": "completed"
        },
        "tags": []
      },
      "source": [
        "## **Creating SquadDataset Class**\n"
      ]
    },
    {
      "cell_type": "markdown",
      "id": "c5fc1e84",
      "metadata": {
        "id": "c5fc1e84",
        "papermill": {
          "duration": 0.048076,
          "end_time": "2022-05-01T14:00:03.860691",
          "exception": false,
          "start_time": "2022-05-01T14:00:03.812615",
          "status": "completed"
        },
        "tags": []
      },
      "source": [
        "Squatdataset class is created, which inherits from torch.utils.data.Dataset for easy handling and converting data encodings into datasets."
      ]
    },
    {
      "cell_type": "code",
      "execution_count": null,
      "id": "0641bd59",
      "metadata": {
        "execution": {
          "iopub.execute_input": "2022-05-01T14:00:03.956925Z",
          "iopub.status.busy": "2022-05-01T14:00:03.956184Z",
          "iopub.status.idle": "2022-05-01T14:00:03.961823Z",
          "shell.execute_reply": "2022-05-01T14:00:03.961110Z"
        },
        "id": "0641bd59",
        "papermill": {
          "duration": 0.054456,
          "end_time": "2022-05-01T14:00:03.963490",
          "exception": false,
          "start_time": "2022-05-01T14:00:03.909034",
          "status": "completed"
        },
        "tags": []
      },
      "outputs": [],
      "source": [
        "class SquadDataset(torch.utils.data.Dataset):\n",
        "    def __init__(self, encodings):\n",
        "        self.encodings = encodings\n",
        "\n",
        "    def __getitem__(self, idx):\n",
        "        return {key: torch.tensor(val[idx]) for key, val in self.encodings.items()}\n",
        "\n",
        "    def __len__(self):\n",
        "        return len(self.encodings.input_ids)"
      ]
    },
    {
      "cell_type": "code",
      "execution_count": null,
      "id": "ad363f97",
      "metadata": {
        "execution": {
          "iopub.execute_input": "2022-05-01T14:00:04.055568Z",
          "iopub.status.busy": "2022-05-01T14:00:04.055024Z",
          "iopub.status.idle": "2022-05-01T14:00:04.058801Z",
          "shell.execute_reply": "2022-05-01T14:00:04.058119Z"
        },
        "id": "ad363f97",
        "papermill": {
          "duration": 0.050359,
          "end_time": "2022-05-01T14:00:04.060508",
          "exception": false,
          "start_time": "2022-05-01T14:00:04.010149",
          "status": "completed"
        },
        "tags": []
      },
      "outputs": [],
      "source": [
        "train_dataset = SquadDataset(train_encodings)\n",
        "val_dataset = SquadDataset(val_encodings)"
      ]
    },
    {
      "cell_type": "markdown",
      "id": "591d13ad",
      "metadata": {
        "id": "591d13ad",
        "papermill": {
          "duration": 0.042033,
          "end_time": "2022-05-01T14:00:04.145701",
          "exception": false,
          "start_time": "2022-05-01T14:00:04.103668",
          "status": "completed"
        },
        "tags": []
      },
      "source": [
        "## **Dataloaders**\n",
        "\n",
        "Batch size cosidered is 8."
      ]
    },
    {
      "cell_type": "code",
      "execution_count": null,
      "id": "81f9f0c2",
      "metadata": {
        "execution": {
          "iopub.execute_input": "2022-05-01T14:00:04.310988Z",
          "iopub.status.busy": "2022-05-01T14:00:04.310298Z",
          "iopub.status.idle": "2022-05-01T14:00:04.314593Z",
          "shell.execute_reply": "2022-05-01T14:00:04.313916Z"
        },
        "id": "81f9f0c2",
        "papermill": {
          "duration": 0.047301,
          "end_time": "2022-05-01T14:00:04.316211",
          "exception": false,
          "start_time": "2022-05-01T14:00:04.268910",
          "status": "completed"
        },
        "tags": []
      },
      "outputs": [],
      "source": [
        "train_loader = DataLoader(train_dataset, batch_size=8, shuffle=True)\n",
        "val_loader = DataLoader(val_dataset, batch_size=8, shuffle=True)"
      ]
    },
    {
      "cell_type": "code",
      "execution_count": null,
      "id": "f9163332",
      "metadata": {
        "execution": {
          "iopub.execute_input": "2022-05-01T14:00:04.480463Z",
          "iopub.status.busy": "2022-05-01T14:00:04.479789Z",
          "iopub.status.idle": "2022-05-01T14:00:04.534940Z",
          "shell.execute_reply": "2022-05-01T14:00:04.534226Z"
        },
        "id": "f9163332",
        "papermill": {
          "duration": 0.098732,
          "end_time": "2022-05-01T14:00:04.536668",
          "exception": false,
          "start_time": "2022-05-01T14:00:04.437936",
          "status": "completed"
        },
        "tags": []
      },
      "outputs": [],
      "source": [
        "device = torch.device('cuda:0' if torch.cuda.is_available()\n",
        "                      else 'cpu')"
      ]
    },
    {
      "cell_type": "markdown",
      "id": "27f196f8",
      "metadata": {
        "id": "27f196f8",
        "papermill": {
          "duration": 0.041184,
          "end_time": "2022-05-01T14:00:04.618539",
          "exception": false,
          "start_time": "2022-05-01T14:00:04.577355",
          "status": "completed"
        },
        "tags": []
      },
      "source": [
        "## **Build the Roberta Model**"
      ]
    },
    {
      "cell_type": "markdown",
      "id": "5038ac9b",
      "metadata": {
        "id": "5038ac9b",
        "papermill": {
          "duration": 0.040791,
          "end_time": "2022-05-01T14:00:04.700197",
          "exception": false,
          "start_time": "2022-05-01T14:00:04.659406",
          "status": "completed"
        },
        "tags": []
      },
      "source": [
        "Roberta Model is an extension of Bert, where Roberta uses dynamic masking of the input sentences while Bert follows a static way of masking the input sequences. Roberta doesn't use NSP (Next Sequence Prediction), which is considered to be one of the major property of the Bert model.\n"
      ]
    },
    {
      "cell_type": "code",
      "execution_count": null,
      "id": "6eef2d9a",
      "metadata": {
        "execution": {
          "iopub.execute_input": "2022-05-01T14:00:04.782884Z",
          "iopub.status.busy": "2022-05-01T14:00:04.782633Z",
          "iopub.status.idle": "2022-05-01T14:00:21.996269Z",
          "shell.execute_reply": "2022-05-01T14:00:21.995517Z"
        },
        "id": "6eef2d9a",
        "outputId": "ac2bb90f-ed5f-4723-96d0-cdc4065c33d3",
        "papermill": {
          "duration": 17.257556,
          "end_time": "2022-05-01T14:00:21.998853",
          "exception": false,
          "start_time": "2022-05-01T14:00:04.741297",
          "status": "completed"
        },
        "tags": [],
        "colab": {
          "referenced_widgets": [
            "7090e9068f9f48e9a639e988ff590246"
          ]
        }
      },
      "outputs": [
        {
          "data": {
            "application/vnd.jupyter.widget-view+json": {
              "model_id": "7090e9068f9f48e9a639e988ff590246",
              "version_major": 2,
              "version_minor": 0
            },
            "text/plain": [
              "Downloading:   0%|          | 0.00/473M [00:00<?, ?B/s]"
            ]
          },
          "metadata": {},
          "output_type": "display_data"
        },
        {
          "name": "stderr",
          "output_type": "stream",
          "text": [
            "/opt/conda/lib/python3.7/site-packages/transformers/optimization.py:309: FutureWarning: This implementation of AdamW is deprecated and will be removed in a future version. Use the PyTorch implementation torch.optim.AdamW instead, or set `no_deprecation_warning=True` to disable this warning\n",
            "  FutureWarning,\n"
          ]
        }
      ],
      "source": [
        "model = RobertaForQuestionAnswering.from_pretrained('deepset/roberta-base-squad2').to(device)\n",
        "\n",
        "optim = AdamW(model.parameters(), lr=5e-5)\n",
        "epochs = 3"
      ]
    },
    {
      "cell_type": "markdown",
      "id": "170051c5",
      "metadata": {
        "id": "170051c5",
        "papermill": {
          "duration": 0.041088,
          "end_time": "2022-05-01T14:00:22.165384",
          "exception": false,
          "start_time": "2022-05-01T14:00:22.124296",
          "status": "completed"
        },
        "tags": []
      },
      "source": [
        "## **Training and Evaluations**"
      ]
    },
    {
      "cell_type": "code",
      "execution_count": null,
      "id": "3cedccf9",
      "metadata": {
        "execution": {
          "iopub.execute_input": "2022-05-01T14:00:22.332915Z",
          "iopub.status.busy": "2022-05-01T14:00:22.332121Z",
          "iopub.status.idle": "2022-05-01T18:22:03.973058Z",
          "shell.execute_reply": "2022-05-01T18:22:03.972131Z"
        },
        "id": "3cedccf9",
        "outputId": "1eb8bb74-0288-46ae-a913-83b037417a96",
        "papermill": {
          "duration": 15701.754462,
          "end_time": "2022-05-01T18:22:04.044002",
          "exception": false,
          "start_time": "2022-05-01T14:00:22.289540",
          "status": "completed"
        },
        "tags": []
      },
      "outputs": [
        {
          "name": "stdout",
          "output_type": "stream",
          "text": [
            "############Train############\n",
            "Batch 1000 / 10853 \n",
            "Loss: 0.7 \n",
            "\n",
            "Batch 2000 / 10853 \n",
            "Loss: 1.7 \n",
            "\n",
            "Batch 3000 / 10853 \n",
            "Loss: 1.2 \n",
            "\n",
            "Batch 4000 / 10853 \n",
            "Loss: 2.7 \n",
            "\n",
            "Batch 5000 / 10853 \n",
            "Loss: 1.1 \n",
            "\n",
            "Batch 6000 / 10853 \n",
            "Loss: 0.6 \n",
            "\n",
            "Batch 7000 / 10853 \n",
            "Loss: 0.6 \n",
            "\n",
            "Batch 8000 / 10853 \n",
            "Loss: 0.6 \n",
            "\n",
            "Batch 9000 / 10853 \n",
            "Loss: 0.8 \n",
            "\n",
            "Batch 10000 / 10853 \n",
            "Loss: 1.5 \n",
            "\n",
            "############Evaluate############\n",
            "Batch 1000 / 2538 \n",
            "Loss: 1.5 \n",
            "\n",
            "Batch 2000 / 2538 \n",
            "Loss: 0.7 \n",
            "\n",
            "\n",
            "-------Epoch  1 -------\n",
            "Training Loss: 0.9808096100854169 \n",
            "Validation Loss: 1.024281746955182 \n",
            "Time:  5233.229170084 \n",
            "----------------------- \n",
            "\n",
            "\n",
            "############Train############\n",
            "Batch 1000 / 10853 \n",
            "Loss: 0.7 \n",
            "\n",
            "Batch 2000 / 10853 \n",
            "Loss: 0.5 \n",
            "\n",
            "Batch 3000 / 10853 \n",
            "Loss: 1.4 \n",
            "\n",
            "Batch 4000 / 10853 \n",
            "Loss: 0.4 \n",
            "\n",
            "Batch 5000 / 10853 \n",
            "Loss: 0.8 \n",
            "\n",
            "Batch 6000 / 10853 \n",
            "Loss: 0.2 \n",
            "\n",
            "Batch 7000 / 10853 \n",
            "Loss: 0.5 \n",
            "\n",
            "Batch 8000 / 10853 \n",
            "Loss: 1.0 \n",
            "\n",
            "Batch 9000 / 10853 \n",
            "Loss: 1.4 \n",
            "\n",
            "Batch 10000 / 10853 \n",
            "Loss: 0.8 \n",
            "\n",
            "############Evaluate############\n",
            "Batch 1000 / 2538 \n",
            "Loss: 1.1 \n",
            "\n",
            "Batch 2000 / 2538 \n",
            "Loss: 1.8 \n",
            "\n",
            "\n",
            "-------Epoch  2 -------\n",
            "Training Loss: 0.7718870712329713 \n",
            "Validation Loss: 1.0251585899215923 \n",
            "Time:  5231.324630022049 \n",
            "----------------------- \n",
            "\n",
            "\n",
            "############Train############\n",
            "Batch 1000 / 10853 \n",
            "Loss: 1.0 \n",
            "\n",
            "Batch 2000 / 10853 \n",
            "Loss: 0.3 \n",
            "\n",
            "Batch 3000 / 10853 \n",
            "Loss: 0.4 \n",
            "\n",
            "Batch 4000 / 10853 \n",
            "Loss: 0.5 \n",
            "\n",
            "Batch 5000 / 10853 \n",
            "Loss: 0.3 \n",
            "\n",
            "Batch 6000 / 10853 \n",
            "Loss: 0.2 \n",
            "\n",
            "Batch 7000 / 10853 \n",
            "Loss: 0.1 \n",
            "\n",
            "Batch 8000 / 10853 \n",
            "Loss: 0.3 \n",
            "\n",
            "Batch 9000 / 10853 \n",
            "Loss: 0.6 \n",
            "\n",
            "Batch 10000 / 10853 \n",
            "Loss: 0.2 \n",
            "\n",
            "############Evaluate############\n",
            "Batch 1000 / 2538 \n",
            "Loss: 1.4 \n",
            "\n",
            "Batch 2000 / 2538 \n",
            "Loss: 2.5 \n",
            "\n",
            "\n",
            "-------Epoch  3 -------\n",
            "Training Loss: 0.6517895559384619 \n",
            "Validation Loss: 1.0743042721645724 \n",
            "Time:  5237.06936788559 \n",
            "----------------------- \n",
            "\n",
            "\n",
            "Total training and evaluation time:  15701.624990463257\n"
          ]
        }
      ],
      "source": [
        "whole_train_eval_time = time.time()\n",
        "\n",
        "train_losses = []\n",
        "val_losses = []\n",
        "\n",
        "print_every = 1000\n",
        "\n",
        "for epoch in range(epochs):\n",
        "  epoch_time = time.time()\n",
        "\n",
        "  # Set model in train mode\n",
        "  model.train()\n",
        "    \n",
        "  loss_of_epoch = 0\n",
        "\n",
        "  print(\"############Train############\")\n",
        "\n",
        "  for batch_idx,batch in enumerate(train_loader): \n",
        "    \n",
        "    optim.zero_grad()\n",
        "\n",
        "    input_ids = batch['input_ids'].to(device)\n",
        "    attention_mask = batch['attention_mask'].to(device)\n",
        "    start_positions = batch['start_positions'].to(device)\n",
        "    end_positions = batch['end_positions'].to(device)\n",
        "    \n",
        "    outputs = model(input_ids, attention_mask=attention_mask, start_positions=start_positions, end_positions=end_positions)\n",
        "    loss = outputs[0]\n",
        "    # do a backwards pass \n",
        "    loss.backward()\n",
        "    # update the weights\n",
        "    optim.step()\n",
        "    # Find the total loss\n",
        "    loss_of_epoch += loss.item()\n",
        "\n",
        "    if (batch_idx+1) % print_every == 0:\n",
        "      print(\"Batch {:} / {:}\".format(batch_idx+1,len(train_loader)),\"\\nLoss:\", round(loss.item(),1),\"\\n\")\n",
        "\n",
        "  loss_of_epoch /= len(train_loader)\n",
        "  train_losses.append(loss_of_epoch)\n",
        "\n",
        "  ##########Evaluation##################\n",
        "\n",
        "  # Set model in evaluation mode\n",
        "  model.eval()\n",
        "\n",
        "  print(\"############Evaluate############\")\n",
        "\n",
        "  loss_of_epoch = 0\n",
        "\n",
        "  for batch_idx,batch in enumerate(val_loader):\n",
        "    \n",
        "    with torch.no_grad():\n",
        "\n",
        "      input_ids = batch['input_ids'].to(device)\n",
        "      attention_mask = batch['attention_mask'].to(device)\n",
        "      start_positions = batch['start_positions'].to(device)\n",
        "      end_positions = batch['end_positions'].to(device)\n",
        "      \n",
        "      outputs = model(input_ids, attention_mask=attention_mask, start_positions=start_positions, end_positions=end_positions)\n",
        "      loss = outputs[0]\n",
        "      # Find the total loss\n",
        "      loss_of_epoch += loss.item()\n",
        "\n",
        "    if (batch_idx+1) % print_every == 0:\n",
        "       print(\"Batch {:} / {:}\".format(batch_idx+1,len(val_loader)),\"\\nLoss:\", round(loss.item(),1),\"\\n\")\n",
        "\n",
        "  loss_of_epoch /= len(val_loader)\n",
        "  val_losses.append(loss_of_epoch)\n",
        "\n",
        "  # Print each epoch's time and train/val loss \n",
        "  print(\"\\n-------Epoch \", epoch+1,\n",
        "        \"-------\"\n",
        "        \"\\nTraining Loss:\", train_losses[-1],\n",
        "        \"\\nValidation Loss:\", val_losses[-1],\n",
        "        \"\\nTime: \",(time.time() - epoch_time),\n",
        "        \"\\n-----------------------\",\n",
        "        \"\\n\\n\")\n",
        "\n",
        "print(\"Total training and evaluation time: \", (time.time() - whole_train_eval_time))"
      ]
    },
    {
      "cell_type": "code",
      "execution_count": null,
      "id": "347b6001",
      "metadata": {
        "execution": {
          "iopub.execute_input": "2022-05-01T18:22:04.329093Z",
          "iopub.status.busy": "2022-05-01T18:22:04.328796Z",
          "iopub.status.idle": "2022-05-01T18:22:05.715373Z",
          "shell.execute_reply": "2022-05-01T18:22:05.714377Z"
        },
        "papermill": {
          "duration": 1.459244,
          "end_time": "2022-05-01T18:22:05.718038",
          "exception": false,
          "start_time": "2022-05-01T18:22:04.258794",
          "status": "completed"
        },
        "tags": [],
        "id": "347b6001"
      },
      "outputs": [],
      "source": [
        "# Save model\n",
        "torch.save(model,\"./finetunedmodel\")"
      ]
    },
    {
      "cell_type": "markdown",
      "id": "00919c24",
      "metadata": {
        "id": "00919c24",
        "papermill": {
          "duration": 0.0764,
          "end_time": "2022-05-01T18:22:05.871371",
          "exception": false,
          "start_time": "2022-05-01T18:22:05.794971",
          "status": "completed"
        },
        "tags": []
      },
      "source": [
        "## **Plotting the Train and Validation Losses**"
      ]
    },
    {
      "cell_type": "code",
      "execution_count": null,
      "id": "cab95cff",
      "metadata": {
        "execution": {
          "iopub.execute_input": "2022-05-01T18:22:06.026050Z",
          "iopub.status.busy": "2022-05-01T18:22:06.025285Z",
          "iopub.status.idle": "2022-05-01T18:22:06.384292Z",
          "shell.execute_reply": "2022-05-01T18:22:06.383309Z"
        },
        "id": "cab95cff",
        "outputId": "f809985f-49b5-450d-ee54-ae1d3385066d",
        "papermill": {
          "duration": 0.439713,
          "end_time": "2022-05-01T18:22:06.386895",
          "exception": false,
          "start_time": "2022-05-01T18:22:05.947182",
          "status": "completed"
        },
        "tags": []
      },
      "outputs": [
        {
          "data": {
            "image/png": "[encoded data removed]",
            "text/plain": [
              "<Figure size 1080x720 with 1 Axes>"
            ]
          },
          "metadata": {
            "needs_background": "light"
          },
          "output_type": "display_data"
        }
      ],
      "source": [
        "import matplotlib.pyplot as plt \n",
        "\n",
        "fig,ax = plt.subplots(1,1,figsize=(15,10))\n",
        "\n",
        "ax.set_title(\"Train and Validation Losses\",size=20)\n",
        "ax.set_ylabel('Loss', fontsize = 20) \n",
        "ax.set_xlabel('Epochs', fontsize = 25) \n",
        "_=ax.plot(train_losses)\n",
        "_=ax.plot(val_losses)\n",
        "_=ax.legend(('Train','Val'),loc='upper right')"
      ]
    },
    {
      "cell_type": "markdown",
      "source": [
        "\n",
        "\n",
        "---\n",
        "\n"
      ],
      "metadata": {
        "id": "5PF4iDcf6PYi"
      },
      "id": "5PF4iDcf6PYi"
    }
  ],
  "metadata": {
    "kernelspec": {
      "display_name": "Python 3",
      "language": "python",
      "name": "python3"
    },
    "language_info": {
      "codemirror_mode": {
        "name": "ipython",
        "version": 3
      },
      "file_extension": ".py",
      "mimetype": "text/x-python",
      "name": "python",
      "nbconvert_exporter": "python",
      "pygments_lexer": "ipython3",
      "version": "3.7.12"
    },
    "papermill": {
      "default_parameters": {},
      "duration": 15822.265094,
      "end_time": "2022-05-01T18:22:10.127625",
      "environment_variables": {},
      "exception": null,
      "input_path": "__notebook__.ipynb",
      "output_path": "__notebook__.ipynb",
      "parameters": {},
      "start_time": "2022-05-01T13:58:27.862531",
      "version": "2.3.4"
    },
    "widgets": {
      "application/vnd.jupyter.widget-state+json": {}
    },
    "colab": {
      "name": "Fine_tuning_RoBERTa.ipynb",
      "provenance": []
    }
  },
  "nbformat": 4,
  "nbformat_minor": 5
}